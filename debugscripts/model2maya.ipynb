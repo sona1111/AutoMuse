{
 "cells": [
  {
   "cell_type": "code",
   "execution_count": null,
   "id": "153bf4c8",
   "metadata": {},
   "outputs": [],
   "source": [
    "!pip install jupyter_rfb"
   ]
  },
  {
   "cell_type": "code",
   "execution_count": 32,
   "id": "85ee3776",
   "metadata": {},
   "outputs": [
    {
     "name": "stdout",
     "output_type": "stream",
     "text": [
      "((0.025942116975784302, -3.9301581382751465, 0.1334753930568695), (0.49953871965408325, -2.9103798866271973, -0.17805799841880798), (0.0017015449702739716, -2.872920036315918, 0.8806961178779602), (0.2708127796649933, -5.138227462768555, 0.14918191730976105), (-1.5733790397644043, 0.1362287998199463, -2.2292301654815674), (-2.4410557746887207, 0.23695588111877441, 1.5334843397140503), (0.23035916686058044, -6.641123294830322, -0.25242581963539124), (1.9499355554580688, 2.5755648612976074, -0.9327408671379089), (1.4773023128509521, 0.21907277405261993, 3.8359501361846924), (-0.05479474365711212, -7.233205318450928, -0.3272966146469116), (1.7198851108551025, 3.99835467338562, -1.4956793785095215), (1.5003719329833984, 1.4724256992340088, 4.706053256988525), (-0.1234273761510849, -9.035833358764648, -0.32539692521095276), (0.034113530069589615, -8.114944458007812, -0.8735334873199463), (-0.27622756361961365, -8.172520637512207, 0.07115330547094345), (0.24992577731609344, -10.786722183227539, -0.40133386850357056), (0.9514217376708984, -8.301961898803711, -2.0179686546325684), (-0.3958491086959839, -8.426578521728516, 1.338718056678772), (2.345367670059204, -5.764130592346191, -2.1303930282592773), (0.30318501591682434, -5.766782760620117, 2.5232629776000977), (0.5115605592727661, -4.5824294090271, -3.934516429901123), (-1.8756139278411865, -4.054261207580566, 2.258162260055542))\n"
     ]
    }
   ],
   "source": [
    "import pickle\n",
    "import numpy as np\n",
    "\n",
    "model_out = pickle.load(open(\"D:/010/spin.pkl\", \"rb\"))\n",
    "joints = np.load(\"D:/010/spin_joints.npy\") * 10.0\n",
    "\n",
    "_joints = tuple(tuple(x) for x in joints.tolist())\n",
    "print(_joints)\n",
    "\n",
    "with open('D:/010/spin_joints.pkl', 'wb') as handle:\n",
    "    pickle.dump(_joints, handle)"
   ]
  },
  {
   "cell_type": "code",
   "execution_count": 18,
   "id": "1fd0334e",
   "metadata": {},
   "outputs": [],
   "source": [
    "JOINTS = (\n",
    "        \"Hips\",\n",
    "        \"Left Upper Leg\",\n",
    "        \"Right Upper Leg\",\n",
    "        \"Spine\",\n",
    "        \"Left Leg\",\n",
    "        \"Right Leg\",\n",
    "        \"Spine1\",\n",
    "        \"Left Foot\",\n",
    "        \"Right Foot\",\n",
    "        \"Thorax\",\n",
    "        \"Left Toe\",\n",
    "        \"Right Toe\",\n",
    "        \"Neck\",\n",
    "        \"Left Shoulder\",\n",
    "        \"Right Shoulder\",\n",
    "        \"Head\",\n",
    "        \"Left ForeArm\",\n",
    "        \"Right ForeArm\",\n",
    "        \"Left Arm\",\n",
    "        \"Right Arm\",\n",
    "        \"Left Hand\",\n",
    "        \"Right Hand\",\n",
    ")\n",
    "SKELETON = (\n",
    "    (0, 1),\n",
    "    (0, 2),\n",
    "    (0, 3),\n",
    "    (1, 4),\n",
    "    (2, 5),\n",
    "    (3, 6),\n",
    "    (4, 7),\n",
    "    (5, 8),\n",
    "    (6, 9),\n",
    "    (7, 10),\n",
    "    (8, 11),\n",
    "    (9, 12),\n",
    "    (12, 13),\n",
    "    (12, 14),\n",
    "    (12, 15),\n",
    "    (13, 16),\n",
    "    (14, 17),\n",
    "    (16, 18),\n",
    "    (17, 19),\n",
    "    (18, 20),\n",
    "    (19, 21),\n",
    ")"
   ]
  },
  {
   "cell_type": "code",
   "execution_count": 19,
   "id": "cdaa6f38",
   "metadata": {},
   "outputs": [
    {
     "name": "stdout",
     "output_type": "stream",
     "text": [
      "21\n"
     ]
    }
   ],
   "source": [
    "len(JOINTS)\n",
    "print(len(SKELETON))\n",
    "#joints = {JOINTS[i]: tuple(joints[i,:]) for i in range(len(JOINTS))}"
   ]
  },
  {
   "cell_type": "code",
   "execution_count": 17,
   "id": "24e381ce",
   "metadata": {},
   "outputs": [
    {
     "data": {
      "text/plain": [
       "{'Hips': (0.0025942116, -0.3930158, 0.01334754),\n",
       " 'Left Upper Leg': (0.04995387, -0.29103798, -0.0178058),\n",
       " 'Right Upper Leg': (0.0001701545, -0.287292, 0.08806961),\n",
       " 'Spine': (0.02708128, -0.51382273, 0.014918191),\n",
       " 'Left Leg': (-0.1573379, 0.01362288, -0.22292301),\n",
       " 'Right Leg': (-0.24410558, 0.023695588, 0.15334843),\n",
       " 'Spine1': (0.023035917, -0.6641123, -0.025242582),\n",
       " 'Left Foot': (0.19499356, 0.2575565, -0.09327409),\n",
       " 'Right Foot': (0.14773023, 0.021907277, 0.38359502),\n",
       " 'Thorax': (-0.0054794746, -0.72332054, -0.032729663),\n",
       " 'Left Toe': (0.17198852, 0.39983547, -0.14956793),\n",
       " 'Right Toe': (0.1500372, 0.14724258, 0.47060534),\n",
       " 'Neck': (-0.012342738, -0.9035833, -0.03253969),\n",
       " 'Left Shoulder': (0.0034113529, -0.81149447, -0.08735335),\n",
       " 'Right Shoulder': (-0.027622756, -0.81725204, 0.0071153305),\n",
       " 'Head': (0.024992578, -1.0786722, -0.040133387),\n",
       " 'Left ForeArm': (0.09514217, -0.83019614, -0.20179686),\n",
       " 'Right ForeArm': (-0.039584912, -0.8426578, 0.13387181),\n",
       " 'Left Arm': (0.23453677, -0.57641304, -0.21303931),\n",
       " 'Right Arm': (0.0303185, -0.5766783, 0.2523263),\n",
       " 'Left Hand': (0.05115606, -0.45824295, -0.39345163),\n",
       " 'Right Hand': (-0.1875614, -0.40542614, 0.22581622)}"
      ]
     },
     "execution_count": 17,
     "metadata": {},
     "output_type": "execute_result"
    }
   ],
   "source": [
    "maya_joints = []\n",
    "maya_joints.append(tuple(joints[0, :]))\n",
    "for i in range(len(SKELETON)):\n",
    "    from_j = maya_joints[SKELETON[i][0]]\n",
    "    to_pos = tuple(joints[i+1, :])\n",
    "    maya_joints.append(tuple(joints[i+1, :]))\n",
    "                   "
   ]
  },
  {
   "cell_type": "code",
   "execution_count": 7,
   "id": "4c7b0ef8",
   "metadata": {},
   "outputs": [
    {
     "data": {
      "text/plain": [
       "(22, 3)"
      ]
     },
     "execution_count": 7,
     "metadata": {},
     "output_type": "execute_result"
    }
   ],
   "source": [
    "joints.shape"
   ]
  },
  {
   "cell_type": "code",
   "execution_count": 35,
   "id": "7232980b",
   "metadata": {},
   "outputs": [
    {
     "name": "stdout",
     "output_type": "stream",
     "text": [
      "/me pets Vogelle\n",
      "/me pets Vogelle\n",
      "/me pets Vogelle\n",
      "/me pets Vogelle\n",
      "/me pets Vogelle\n",
      "/me pets Vogelle\n",
      "/me pets Vogelle\n",
      "/me pets Vogelle\n",
      "/me pets Vogelle\n",
      "/me pets Vogelle\n",
      "/me pets Vogelle\n",
      "/me pets Vogelle\n",
      "/me pets Vogelle\n",
      "/me pets Vogelle\n",
      "/me pets Vogelle\n",
      "/me pets Vogelle\n",
      "\n"
     ]
    }
   ],
   "source": [
    "print(\"/me pets Vogelle\\n\" * 16)"
   ]
  },
  {
   "cell_type": "code",
   "execution_count": null,
   "id": "76977390",
   "metadata": {},
   "outputs": [],
   "source": []
  }
 ],
 "metadata": {
  "kernelspec": {
   "display_name": "Python 3 (ipykernel)",
   "language": "python",
   "name": "python3"
  },
  "language_info": {
   "codemirror_mode": {
    "name": "ipython",
    "version": 3
   },
   "file_extension": ".py",
   "mimetype": "text/x-python",
   "name": "python",
   "nbconvert_exporter": "python",
   "pygments_lexer": "ipython3",
   "version": "3.10.10"
  }
 },
 "nbformat": 4,
 "nbformat_minor": 5
}
